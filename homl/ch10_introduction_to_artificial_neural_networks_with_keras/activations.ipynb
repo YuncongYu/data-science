version https://git-lfs.github.com/spec/v1
oid sha256:28e57e7682e86e10c8a0e456becb0bbb1fe40f9d37b956a9682587f7df1309f3
size 106742
