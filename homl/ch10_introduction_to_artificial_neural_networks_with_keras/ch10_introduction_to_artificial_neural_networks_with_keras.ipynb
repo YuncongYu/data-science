version https://git-lfs.github.com/spec/v1
oid sha256:0d4eb0c5d67c888a7a4c3fbbd376f0bf444da11d98e7bf8260afc68fa859ed2e
size 1126406
