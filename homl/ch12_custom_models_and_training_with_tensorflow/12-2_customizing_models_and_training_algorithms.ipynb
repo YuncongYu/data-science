version https://git-lfs.github.com/spec/v1
oid sha256:7ef0f130149ad5d649b6f3e96aa9875945d772c973261c6a7e5b0555b1b7e4bd
size 2107231
