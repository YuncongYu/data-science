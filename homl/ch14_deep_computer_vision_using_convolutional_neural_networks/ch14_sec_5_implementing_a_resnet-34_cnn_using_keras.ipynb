version https://git-lfs.github.com/spec/v1
oid sha256:6fc804804f43dbd261e632a230512223d73729bcbd51cbd877c30d671c556d1d
size 10112
