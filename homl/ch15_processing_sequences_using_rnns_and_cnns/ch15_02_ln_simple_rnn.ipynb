version https://git-lfs.github.com/spec/v1
oid sha256:5645bb3c2d435f753297d32d935ad21ce3890f286468b2dd013900d8c9a45280
size 146207
