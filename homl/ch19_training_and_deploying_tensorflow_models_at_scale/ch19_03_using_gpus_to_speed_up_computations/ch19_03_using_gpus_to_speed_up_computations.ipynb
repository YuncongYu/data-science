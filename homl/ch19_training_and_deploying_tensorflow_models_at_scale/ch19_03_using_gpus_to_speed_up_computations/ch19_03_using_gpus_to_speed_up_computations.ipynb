version https://git-lfs.github.com/spec/v1
oid sha256:062205e9d2f96fbeebd82f4d0f66622baf7721fa537b4d2d8ede5f5034c638cf
size 15384
