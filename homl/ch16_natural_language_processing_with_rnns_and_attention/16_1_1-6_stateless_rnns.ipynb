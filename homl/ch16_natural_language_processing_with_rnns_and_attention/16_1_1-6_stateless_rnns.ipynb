version https://git-lfs.github.com/spec/v1
oid sha256:05ef9da4aa9b89347e682687098f121ce7765dfe7aa86a393139b2c6ad2acb85
size 63683
