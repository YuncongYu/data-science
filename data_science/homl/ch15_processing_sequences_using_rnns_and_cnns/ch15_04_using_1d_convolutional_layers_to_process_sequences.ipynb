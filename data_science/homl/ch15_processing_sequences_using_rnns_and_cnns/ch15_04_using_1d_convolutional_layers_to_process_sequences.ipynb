version https://git-lfs.github.com/spec/v1
oid sha256:b596c245996d1e3e134b67eb0ceef0f2dfd05be6c137be20048496fbf2690fa1
size 92759
