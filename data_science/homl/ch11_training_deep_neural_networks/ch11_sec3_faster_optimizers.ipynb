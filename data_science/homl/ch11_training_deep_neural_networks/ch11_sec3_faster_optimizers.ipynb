version https://git-lfs.github.com/spec/v1
oid sha256:8715906fd49348b64645d2909ae492cec75bad38eedb7e9a4d94e748cc92a632
size 37069
