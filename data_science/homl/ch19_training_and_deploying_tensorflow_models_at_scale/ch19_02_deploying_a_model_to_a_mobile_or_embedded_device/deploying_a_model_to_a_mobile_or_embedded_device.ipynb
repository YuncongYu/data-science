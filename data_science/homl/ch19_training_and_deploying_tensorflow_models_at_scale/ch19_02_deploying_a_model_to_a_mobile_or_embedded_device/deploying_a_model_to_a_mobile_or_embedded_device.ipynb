version https://git-lfs.github.com/spec/v1
oid sha256:0670ba4920f6e6452ba4b28d520a823873a5956fd56da3453011fb26e46ae446
size 2279
