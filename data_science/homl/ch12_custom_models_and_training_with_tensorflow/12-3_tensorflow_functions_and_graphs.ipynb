version https://git-lfs.github.com/spec/v1
oid sha256:cf2fac12fd1785b1c2a8f5b229ade820a500ea1fc3fc418c7bf0a7f3607029c3
size 6542
