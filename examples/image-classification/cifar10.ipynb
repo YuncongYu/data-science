version https://git-lfs.github.com/spec/v1
oid sha256:c1b92116fda84a8ddac1050d8d12ea08bc4b96dbac70587919db38bcd32d82dc
size 62644
