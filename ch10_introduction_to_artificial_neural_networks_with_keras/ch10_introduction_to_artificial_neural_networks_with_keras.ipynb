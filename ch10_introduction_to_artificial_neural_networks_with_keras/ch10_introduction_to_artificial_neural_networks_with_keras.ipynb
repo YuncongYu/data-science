version https://git-lfs.github.com/spec/v1
oid sha256:35ea5cc55c00ab779fffdf8674b8eca2de23d30f37f3e52c81bab3ca9f552489
size 343836
